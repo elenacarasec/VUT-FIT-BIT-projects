{
 "cells": [
  {
   "cell_type": "markdown",
   "source": [
    "# Test prerekvizitních znalostí Pythonu\n",
    "Na tomto testu byste si měli ověřit, zda chápete základní struktury a konstrukce v jazyku Python. \n",
    "\n",
    "_Odhadovaná doba řešení:_ 10 minut\n",
    "\n",
    "_Odevzdávání:_ tento soubor `test.ipynb` odevzdejte do WISu do úterý 21. září 2021\n",
    "\n",
    "_Dotazy:_ fórum ve WISu, hodnotit bude V. Mrázek"
   ],
   "metadata": {}
  },
  {
   "cell_type": "code",
   "execution_count": 16,
   "source": [
    "# test verze jazyka Python\n",
    "import sys\n",
    "print(sys.version)\n",
    "# mela by byt Python 3.8 nebo 3.9"
   ],
   "outputs": [
    {
     "output_type": "stream",
     "name": "stdout",
     "text": [
      "3.9.5 (default, May 19 2021, 11:32:47) \n",
      "[GCC 9.3.0]\n"
     ]
    }
   ],
   "metadata": {
    "tags": []
   }
  },
  {
   "cell_type": "code",
   "execution_count": 17,
   "source": [
    "print(\"xcaras00\\n\")\n"
   ],
   "outputs": [
    {
     "output_type": "stream",
     "name": "stdout",
     "text": [
      "xaras00\n"
     ]
    }
   ],
   "metadata": {
    "tags": []
   }
  },
  {
   "cell_type": "markdown",
   "source": [
    "## Část 1: funkce\n",
    "\n",
    "- Napište funci `f1` s proměnným počtem __pozičně nezávislých__ argumentů, která vypíše všechny argumenty ve formátu\n",
    "```\n",
    "param1=hodnota1\n",
    "param2=hodnota2\n",
    "param3=hodnota3\n",
    "param4=hodnota4\n",
    "```"
   ],
   "metadata": {}
  },
  {
   "cell_type": "code",
   "execution_count": 18,
   "source": [
    "# Funkce s proměnným počtem argumentů\n",
    "# TODO: napiste funkci f1 \n",
    "def f1(**kwargs):\n",
    "    for key, val in kwargs.items():\n",
    "        print(f\"{key}={val}\")\n",
    "\n",
    "\n",
    "\n",
    "f1(param1=\"hodnota1\", param2=\"hodnota2\", param3=\"hodnota3\", param4=\"hodnota4\")"
   ],
   "outputs": [
    {
     "output_type": "stream",
     "name": "stdout",
     "text": [
      "param1=hodnota1\n",
      "param2=hodnota2\n",
      "param3=hodnota3\n",
      "param4=hodnota4\n"
     ]
    }
   ],
   "metadata": {
    "tags": []
   }
  },
  {
   "cell_type": "markdown",
   "source": [
    "Vytvořte slovník (`dictionary`) v proměnné `dict_values` , který bude obsahovat položky \"param1\" s hodnotou \"value1\", \"param2\" s hodnotou \"value2\" až po \"param30\" s hodnotou \"value30\". Zřejmě k tomu využijete výčet `range`, formátovací řetězce a můžete použít zápis na jeden řádek pomocí tzv _generátorové notace_."
   ],
   "metadata": {}
  },
  {
   "cell_type": "code",
   "execution_count": 19,
   "source": [
    "# TODO: vytvořte slovník dict_values (a na konci jej vypište)\n",
    "dict_values = {f\"param{i}\" : f\"value{i}\" for i in range(1, 31)}\n",
    "print(dict_values)"
   ],
   "outputs": [
    {
     "output_type": "stream",
     "name": "stdout",
     "text": [
      "{'param1': 'value1', 'param2': 'value2', 'param3': 'value3', 'param4': 'value4', 'param5': 'value5', 'param6': 'value6', 'param7': 'value7', 'param8': 'value8', 'param9': 'value9', 'param10': 'value10', 'param11': 'value11', 'param12': 'value12', 'param13': 'value13', 'param14': 'value14', 'param15': 'value15', 'param16': 'value16', 'param17': 'value17', 'param18': 'value18', 'param19': 'value19', 'param20': 'value20', 'param21': 'value21', 'param22': 'value22', 'param23': 'value23', 'param24': 'value24', 'param25': 'value25', 'param26': 'value26', 'param27': 'value27', 'param28': 'value28', 'param29': 'value29', 'param30': 'value30'}\n"
     ]
    }
   ],
   "metadata": {}
  },
  {
   "cell_type": "markdown",
   "source": [
    "Zavolejte funkci `f1` tak, aby měla parametry c=\"funkce1\", param1=\"value1\", ... (stejně jako předchozí krok). Využijte k tomu slovník `dict_values` z předchozího úkolu."
   ],
   "metadata": {}
  },
  {
   "cell_type": "code",
   "execution_count": 20,
   "source": [
    "# TODO: na jednom řádku vyřešte výše uvedené volání\n",
    "f1(c=\"funkce1\", **dict_values)"
   ],
   "outputs": [
    {
     "output_type": "stream",
     "name": "stdout",
     "text": [
      "c=funkce1\n",
      "param1=value1\n",
      "param2=value2\n",
      "param3=value3\n",
      "param4=value4\n",
      "param5=value5\n",
      "param6=value6\n",
      "param7=value7\n",
      "param8=value8\n",
      "param9=value9\n",
      "param10=value10\n",
      "param11=value11\n",
      "param12=value12\n",
      "param13=value13\n",
      "param14=value14\n",
      "param15=value15\n",
      "param16=value16\n",
      "param17=value17\n",
      "param18=value18\n",
      "param19=value19\n",
      "param20=value20\n",
      "param21=value21\n",
      "param22=value22\n",
      "param23=value23\n",
      "param24=value24\n",
      "param25=value25\n",
      "param26=value26\n",
      "param27=value27\n",
      "param28=value28\n",
      "param29=value29\n",
      "param30=value30\n"
     ]
    }
   ],
   "metadata": {
    "tags": []
   }
  },
  {
   "cell_type": "markdown",
   "source": [
    "## Část 2: Třídy\n",
    "\n",
    "Vytvořte třídu `Auto`, které má:\n",
    "\n",
    "- incializátor, který vezme argument `vykon` a jeho hodnotu přiřadí do atributu `vykon` nově vzniklé instance\n",
    "- funkci, která zařídí, že když se zadá `print(instance_objektu)`, tak se vypíše řetězec `Auto(vykon=??)`, kde `??` bude nahrazeno hodnotou atributu `vykon`\n",
    "- atribut `vykon`, který bude řízen přes tzv. _getter_ a _setter_ (viz `@property` kontrukce) tak, že\n",
    "  - getter vrátí hodnotu neveřejného atributu `self.__vykon`\n",
    "  - setter změní hodnotu neveřejného atributu `self.__vykon` pouze když je hodnota nezáporná. Jinak vyvolá vyjímku `ValueError` s popisem `Vykon nemuze byt mensi nez 0, bylo zadano ??`."
   ],
   "metadata": {}
  },
  {
   "cell_type": "code",
   "execution_count": 21,
   "source": [
    "#TODO: vytvorte tridu\n",
    "class Auto:\n",
    "    def __init__(self, vykon):\n",
    "        if vykon < 0:\n",
    "            raise ValueError(f\"Vykon nemuze byt mensi nez 0, bylo zadano {vykon}\")\n",
    "        self.__vykon = vykon\n",
    "    def __repr__(self):\n",
    "        return repr(f\"Auto(vykon={self.__vykon})\")\n",
    "    @property\n",
    "    def vykon(self):\n",
    "        return self.__vykon\n",
    "    @vykon.setter\n",
    "    def vykon(self, vykon):\n",
    "        if vykon < 0:\n",
    "            raise ValueError(f\"Vykon nemuze byt mensi nez 0, bylo zadano {vykon}\")\n",
    "        self.__vykon = vykon\n",
    "\n",
    "auto = Auto(vykon=15)\n",
    "auto.vykon = 125\n",
    "print(\"Muj objekt je\", auto)\n"
   ],
   "outputs": [
    {
     "output_type": "stream",
     "name": "stdout",
     "text": [
      "Muj objekt je 'Auto(vykon=125)'\n"
     ]
    }
   ],
   "metadata": {
    "tags": []
   }
  },
  {
   "cell_type": "markdown",
   "source": [
    "Test vyvolání vyjímky - zkusíme natastavit zápornou hodnotu výkonu auta."
   ],
   "metadata": {}
  },
  {
   "cell_type": "code",
   "execution_count": 22,
   "source": [
    "auto = Auto(vykon=15)\n",
    "auto.vykon = -100"
   ],
   "outputs": [
    {
     "output_type": "error",
     "ename": "ValueError",
     "evalue": "Vykon nemuze byt mensi nez 0, bylo zadano -100",
     "traceback": [
      "\u001b[0;31m---------------------------------------------------------------------------\u001b[0m",
      "\u001b[0;31mValueError\u001b[0m                                Traceback (most recent call last)",
      "\u001b[0;32m/tmp/ipykernel_8411/1134660011.py\u001b[0m in \u001b[0;36m<module>\u001b[0;34m\u001b[0m\n\u001b[1;32m      1\u001b[0m \u001b[0mauto\u001b[0m \u001b[0;34m=\u001b[0m \u001b[0mAuto\u001b[0m\u001b[0;34m(\u001b[0m\u001b[0mvykon\u001b[0m\u001b[0;34m=\u001b[0m\u001b[0;36m15\u001b[0m\u001b[0;34m)\u001b[0m\u001b[0;34m\u001b[0m\u001b[0;34m\u001b[0m\u001b[0m\n\u001b[0;32m----> 2\u001b[0;31m \u001b[0mauto\u001b[0m\u001b[0;34m.\u001b[0m\u001b[0mvykon\u001b[0m \u001b[0;34m=\u001b[0m \u001b[0;34m-\u001b[0m\u001b[0;36m100\u001b[0m\u001b[0;34m\u001b[0m\u001b[0;34m\u001b[0m\u001b[0m\n\u001b[0m",
      "\u001b[0;32m/tmp/ipykernel_8411/4026402430.py\u001b[0m in \u001b[0;36mvykon\u001b[0;34m(self, vykon)\u001b[0m\n\u001b[1;32m     13\u001b[0m     \u001b[0;32mdef\u001b[0m \u001b[0mvykon\u001b[0m\u001b[0;34m(\u001b[0m\u001b[0mself\u001b[0m\u001b[0;34m,\u001b[0m \u001b[0mvykon\u001b[0m\u001b[0;34m)\u001b[0m\u001b[0;34m:\u001b[0m\u001b[0;34m\u001b[0m\u001b[0;34m\u001b[0m\u001b[0m\n\u001b[1;32m     14\u001b[0m         \u001b[0;32mif\u001b[0m \u001b[0mvykon\u001b[0m \u001b[0;34m<\u001b[0m \u001b[0;36m0\u001b[0m\u001b[0;34m:\u001b[0m\u001b[0;34m\u001b[0m\u001b[0;34m\u001b[0m\u001b[0m\n\u001b[0;32m---> 15\u001b[0;31m             \u001b[0;32mraise\u001b[0m \u001b[0mValueError\u001b[0m\u001b[0;34m(\u001b[0m\u001b[0;34mf\"Vykon nemuze byt mensi nez 0, bylo zadano {vykon}\"\u001b[0m\u001b[0;34m)\u001b[0m\u001b[0;34m\u001b[0m\u001b[0;34m\u001b[0m\u001b[0m\n\u001b[0m\u001b[1;32m     16\u001b[0m         \u001b[0mself\u001b[0m\u001b[0;34m.\u001b[0m\u001b[0m__vykon\u001b[0m \u001b[0;34m=\u001b[0m \u001b[0mvykon\u001b[0m\u001b[0;34m\u001b[0m\u001b[0;34m\u001b[0m\u001b[0m\n\u001b[1;32m     17\u001b[0m \u001b[0;34m\u001b[0m\u001b[0m\n",
      "\u001b[0;31mValueError\u001b[0m: Vykon nemuze byt mensi nez 0, bylo zadano -100"
     ]
    }
   ],
   "metadata": {}
  },
  {
   "cell_type": "markdown",
   "source": [
    "Nyní je vaším úkolem napsat ošetření vyjímky, které při nastavení záporné hodnoty výkonu vypíše chybovou hlášku, kterou převezme z vyjímky (použijte konstrukci `ValueError as e` a vypište i proměnnou `e`)"
   ],
   "metadata": {}
  },
  {
   "cell_type": "code",
   "execution_count": 23,
   "source": [
    "#TODO: vytvorte konstrukci zachytavani chyby\n",
    "try:\n",
    "    auto = Auto(vykon=-100)\n",
    "except ValueError as e:\n",
    "    print(e)\n",
    "\n",
    "print(\"Vse probehlo OK\")\n"
   ],
   "outputs": [
    {
     "output_type": "stream",
     "name": "stdout",
     "text": [
      "Vykon nemuze byt mensi nez 0, bylo zadano -100\n",
      "Vse probehlo OK\n"
     ]
    }
   ],
   "metadata": {
    "tags": []
   }
  },
  {
   "cell_type": "markdown",
   "source": [
    "## Část 3: Smyčky, pole atd.\n",
    "\n",
    "Vytvoříme data, se kterými budeme pracovat"
   ],
   "metadata": {}
  },
  {
   "cell_type": "code",
   "execution_count": 32,
   "source": [
    "data = [\n",
    "    (\"Karel\", \"Procházka\"),\n",
    "    (\"Lucie\", \"Nováková\"),\n",
    "    (\"Přemysl\", \"Oráč\")\n",
    "]\n"
   ],
   "outputs": [],
   "metadata": {}
  },
  {
   "cell_type": "markdown",
   "source": [
    "Projděte data v cyklu s tím, že vypíšete:\n",
    "```\n",
    "1. Karel Procházka\n",
    "2. Lucie Nováková\n",
    "3. Přemysl Oráč\n",
    "```\n",
    "\n",
    "Použijte jeden cyklus s tím, že budete plnit proměnné `rid`, `jmeno` a `prijmeni` - použijte funkce `enumerate` a rozbalení  (_upacking_)."
   ],
   "metadata": {}
  },
  {
   "cell_type": "code",
   "execution_count": 38,
   "source": [
    "#TODO: napiste cyklus\n",
    "\n",
    "for rid, (jmeno, prijmeni) in enumerate(data):\n",
    "    print(f\"{rid}. {jmeno} {prijmeni}\\n\")"
   ],
   "outputs": [
    {
     "output_type": "stream",
     "name": "stdout",
     "text": [
      "0. Karel Procházka\n",
      "\n",
      "1. Lucie Nováková\n",
      "\n",
      "2. Přemysl Oráč\n",
      "\n"
     ]
    }
   ],
   "metadata": {
    "tags": []
   }
  },
  {
   "cell_type": "markdown",
   "source": [
    "A vypište poslední prvek (uvažujte obecný seznam, kde neznáte předem délku)"
   ],
   "metadata": {}
  },
  {
   "cell_type": "code",
   "execution_count": 39,
   "source": [
    "#TODO: výpis posledního prvku\n",
    "print(jmeno, prijmeni)"
   ],
   "outputs": [
    {
     "output_type": "stream",
     "name": "stdout",
     "text": [
      "Přemysl Oráč\n"
     ]
    }
   ],
   "metadata": {
    "tags": []
   }
  },
  {
   "cell_type": "markdown",
   "source": [
    "Pozor, nepřidávejte další buňky a neměňte buňky s popisem na kód."
   ],
   "metadata": {}
  }
 ],
 "metadata": {
  "interpreter": {
   "hash": "f9f85f796d01129d0dd105a088854619f454435301f6ffec2fea96ecbd9be4ac"
  },
  "kernelspec": {
   "name": "python3",
   "display_name": "Python 3.9.5 64-bit"
  },
  "language_info": {
   "codemirror_mode": {
    "name": "ipython",
    "version": 3
   },
   "file_extension": ".py",
   "mimetype": "text/x-python",
   "name": "python",
   "nbconvert_exporter": "python",
   "pygments_lexer": "ipython3",
   "version": "3.9.5"
  }
 },
 "nbformat": 4,
 "nbformat_minor": 2
}